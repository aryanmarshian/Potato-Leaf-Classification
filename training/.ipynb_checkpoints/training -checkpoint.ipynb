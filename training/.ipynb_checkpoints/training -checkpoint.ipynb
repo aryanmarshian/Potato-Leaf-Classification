{
 "cells": [
  {
   "cell_type": "code",
   "execution_count": null,
   "id": "de7dbe59",
   "metadata": {},
   "outputs": [],
   "source": [
    "import tensorflow as tf\n",
    "from tensorflow.keras import models, layers\n",
    "import matplotlib.pyplot as plt "
   ]
  },
  {
   "cell_type": "code",
   "execution_count": null,
   "id": "5fdf0e08",
   "metadata": {},
   "outputs": [],
   "source": [
    "Image_size=256\n",
    "Batch_size=32"
   ]
  },
  {
   "cell_type": "code",
   "execution_count": null,
   "id": "cca1e21c",
   "metadata": {},
   "outputs": [],
   "source": [
    "tf.keras.preprocessing.image_dataset_from_directory(\n",
    "   \"PlantVillage\",\n",
    "    shuffle=True,\n",
    "    image_size=(Image_size,Image_size),\n",
    "    batch_size=Batch_size \n",
    ")"
   ]
  },
  {
   "cell_type": "code",
   "execution_count": null,
   "id": "252cdd9e",
   "metadata": {},
   "outputs": [],
   "source": []
  },
  {
   "cell_type": "code",
   "execution_count": null,
   "id": "fecef854",
   "metadata": {},
   "outputs": [],
   "source": []
  }
 ],
 "metadata": {
  "kernelspec": {
   "display_name": "Python 3 (ipykernel)",
   "language": "python",
   "name": "python3"
  },
  "language_info": {
   "codemirror_mode": {
    "name": "ipython",
    "version": 3
   },
   "file_extension": ".py",
   "mimetype": "text/x-python",
   "name": "python",
   "nbconvert_exporter": "python",
   "pygments_lexer": "ipython3",
   "version": "3.11.5"
  }
 },
 "nbformat": 4,
 "nbformat_minor": 5
}
